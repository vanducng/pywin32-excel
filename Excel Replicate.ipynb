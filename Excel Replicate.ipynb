{
 "cells": [
  {
   "cell_type": "code",
   "execution_count": 55,
   "metadata": {},
   "outputs": [],
   "source": [
    "# http://pythonexcels.com/python-excel-mini-cookbook/\n",
    "import win32com.client as win32\n",
    "import os"
   ]
  },
  {
   "cell_type": "markdown",
   "metadata": {},
   "source": [
    "## Process input files"
   ]
  },
  {
   "cell_type": "code",
   "execution_count": 56,
   "metadata": {},
   "outputs": [],
   "source": [
    "def count_row(ws, col_name, row_add):\n",
    "    row_inc = row_add\n",
    "    while(ws.Range(col_name + str(row_inc)).Value != None and ws.Range(col_name + str(row_inc)).Value != \"\"):\n",
    "        row_inc += 1\n",
    "    return row_inc\n",
    "        "
   ]
  },
  {
   "cell_type": "code",
   "execution_count": 57,
   "metadata": {},
   "outputs": [],
   "source": [
    "def remove_sheet(workbook, sheet_name):\n",
    "    for sheet in workbook.Sheets:\n",
    "        if sheet_name == sheet.Name:\n",
    "            workbook.Worksheets(sheet.Name).Delete()"
   ]
  },
  {
   "cell_type": "code",
   "execution_count": 58,
   "metadata": {},
   "outputs": [],
   "source": [
    "input_file_name = \"DT_MasterReport.xlsx\"\n",
    "output_file_name = \"DT_MasterReport_Output.xlsx\"\n",
    "\n",
    "sheet_list = [(\"FC Report DT- Total DT\", \"Total DT\"), \n",
    "             (\"FC Report DT-North\", \"DT-North\"),\n",
    "             (\"FC Report DT-Central\", \"Central\"),\n",
    "             (\"FC Report DT-HCME\", \"HCME\"),\n",
    "             (\"FC Report DT-MKD\", \"MKD\")]"
   ]
  },
  {
   "cell_type": "code",
   "execution_count": 59,
   "metadata": {},
   "outputs": [],
   "source": [
    "iExcel = win32.Dispatch(\"Excel.Application\")\n",
    "iExcel.Visible = True\n",
    "iExcel.DisplayAlerts = False\n",
    "iWb = iExcel.Workbooks.Open(os.path.join(os.getcwd(), input_file_name))"
   ]
  },
  {
   "cell_type": "code",
   "execution_count": 60,
   "metadata": {},
   "outputs": [],
   "source": [
    "temp_sheet_name = \"temp\"\n",
    "remove_sheet(iWb, temp_sheet_name)\n",
    "wsTemp = iWb.Worksheets.Add()\n",
    "wsTemp.Name = temp_sheet_name\n",
    "wsTemp.Range(\"A3\").Value = \"FC Report DT\""
   ]
  },
  {
   "cell_type": "code",
   "execution_count": 61,
   "metadata": {},
   "outputs": [],
   "source": [
    "max_row = 0\n",
    "for i in range(len(sheet_list)):\n",
    "    iSheet = iWb.Worksheets(sheet_list[i][0])\n",
    "    report_name = sheet_list[i][1]\n",
    "    last_row = count_row(iSheet, \"A\", 8)\n",
    "    \n",
    "    if i == 0:\n",
    "        wsTemp.Range(\"A4:A\" + str(last_row - 6)).Value = sheet_list[i][1]\n",
    "        wsTemp.Range(\"B1:OW\" + str(last_row - 5)).Value = iSheet.Range(\"A6:OV\" + str(last_row)).Value\n",
    "        max_row = last_row - 6\n",
    "    else:\n",
    "        wsTemp.Range(\"A\" + str(max_row + 1) + \":A\" + str((last_row - 8) + (max_row + 1))).Value = sheet_list[i][1]\n",
    "        wsTemp.Range(\"B\" + str(max_row + 1) + \":OW\" + str((last_row - 8) + (max_row + 1))).Value = iSheet.Range(\"A9:OV\" + str(last_row)).Value\n",
    "        max_row = (last_row - 8) + (max_row + 1)"
   ]
  },
  {
   "cell_type": "markdown",
   "metadata": {},
   "source": [
    "## Create output file"
   ]
  },
  {
   "cell_type": "code",
   "execution_count": 62,
   "metadata": {},
   "outputs": [],
   "source": [
    "oExcel = win32.Dispatch(\"Excel.Application\")\n",
    "oExcel.Visible = False\n",
    "oWb = oExcel.Workbooks.Add()\n",
    "oSheet = oWb.Worksheets(1)\n",
    "oSheet.Range(\"A1:OW\" + str(max_row)).Value = wsTemp.Range(\"A1:OW\" + str(max_row)).Value \n",
    "oWb.SaveAs(os.path.join(os.getcwd(), output_file_name))"
   ]
  }
 ],
 "metadata": {
  "kernelspec": {
   "display_name": "Python 3",
   "language": "python",
   "name": "python3"
  },
  "language_info": {
   "codemirror_mode": {
    "name": "ipython",
    "version": 3
   },
   "file_extension": ".py",
   "mimetype": "text/x-python",
   "name": "python",
   "nbconvert_exporter": "python",
   "pygments_lexer": "ipython3",
   "version": "3.6.5"
  }
 },
 "nbformat": 4,
 "nbformat_minor": 2
}
